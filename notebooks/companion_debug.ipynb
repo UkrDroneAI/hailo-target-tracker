{
 "cells": [
  {
   "cell_type": "code",
   "execution_count": 1,
   "metadata": {},
   "outputs": [],
   "source": [
    "import sys\n",
    "sys.path.append(\"../basic_pipelines\")"
   ]
  },
  {
   "cell_type": "code",
   "execution_count": 2,
   "metadata": {},
   "outputs": [],
   "source": [
    "from pymavlink_common import wait_heartbeat, auto_connect\n",
    "from autopilot_companion import AutipilotCompanion\n",
    "import numpy as np\n",
    "import matplotlib.pyplot as plt"
   ]
  },
  {
   "cell_type": "code",
   "execution_count": 3,
   "metadata": {},
   "outputs": [
    {
     "name": "stdout",
     "output_type": "stream",
     "text": [
      "Loading shared lib: /home/udaiadmin/Projects/hailo-target-tracker/resources/angularcs.so\n",
      "Connecting message: None\n",
      "Connecting message: None\n",
      "Connecting message: None\n",
      "Connecting message: None\n",
      "Connecting message: None\n"
     ]
    },
    {
     "ename": "KeyboardInterrupt",
     "evalue": "",
     "output_type": "error",
     "traceback": [
      "\u001b[0;31m---------------------------------------------------------------------------\u001b[0m",
      "\u001b[0;31mKeyboardInterrupt\u001b[0m                         Traceback (most recent call last)",
      "Cell \u001b[0;32mIn[3], line 2\u001b[0m\n\u001b[1;32m      1\u001b[0m ac \u001b[38;5;241m=\u001b[39m AutipilotCompanion()\n\u001b[0;32m----> 2\u001b[0m \u001b[43mac\u001b[49m\u001b[38;5;241;43m.\u001b[39;49m\u001b[43mconfigure\u001b[49m\u001b[43m(\u001b[49m\n\u001b[1;32m      3\u001b[0m \u001b[43m    \u001b[49m\u001b[43mdevice\u001b[49m\u001b[38;5;241;43m=\u001b[39;49m\u001b[38;5;124;43m\"\u001b[39;49m\u001b[38;5;124;43mudp:192.168.1.34:1455\u001b[39;49m\u001b[38;5;124;43m\"\u001b[39;49m\u001b[43m,\u001b[49m\n\u001b[1;32m      4\u001b[0m \u001b[43m    \u001b[49m\u001b[43mangularcs_lib_path\u001b[49m\u001b[38;5;241;43m=\u001b[39;49m\u001b[38;5;124;43m\"\u001b[39;49m\u001b[38;5;124;43m/home/udaiadmin/Projects/hailo-target-tracker/resources/angularcs.so\u001b[39;49m\u001b[38;5;124;43m\"\u001b[39;49m\n\u001b[1;32m      5\u001b[0m \u001b[43m)\u001b[49m\n",
      "File \u001b[0;32m~/Projects/hailo-target-tracker/notebooks/../basic_pipelines/autopilot_companion.py:93\u001b[0m, in \u001b[0;36mAutipilotCompanion.configure\u001b[0;34m(self, device, baudrate, SOURCE_SYSTEM, tracking_mode, tracked_objects, min_confidence, angularcs_lib_path, horizontal_fov, vertical_fov, timesample)\u001b[0m\n\u001b[1;32m     88\u001b[0m \u001b[38;5;28mself\u001b[39m\u001b[38;5;241m.\u001b[39m_dlclose_func\u001b[38;5;241m.\u001b[39margtypes \u001b[38;5;241m=\u001b[39m [ct\u001b[38;5;241m.\u001b[39mc_void_p]\n\u001b[1;32m     90\u001b[0m \u001b[38;5;28mself\u001b[39m\u001b[38;5;241m.\u001b[39mmaster \u001b[38;5;241m=\u001b[39m mavutil\u001b[38;5;241m.\u001b[39mmavlink_connection(\n\u001b[1;32m     91\u001b[0m     device, baud\u001b[38;5;241m=\u001b[39mbaudrate, source_system\u001b[38;5;241m=\u001b[39mSOURCE_SYSTEM)\n\u001b[0;32m---> 93\u001b[0m \u001b[38;5;28;43mself\u001b[39;49m\u001b[38;5;241;43m.\u001b[39;49m\u001b[43m__wait_conn\u001b[49m\u001b[43m(\u001b[49m\u001b[43m)\u001b[49m\n",
      "File \u001b[0;32m~/Projects/hailo-target-tracker/notebooks/../basic_pipelines/autopilot_companion.py:120\u001b[0m, in \u001b[0;36mAutipilotCompanion.__wait_conn\u001b[0;34m(self)\u001b[0m\n\u001b[1;32m    118\u001b[0m msg \u001b[38;5;241m=\u001b[39m \u001b[38;5;28mself\u001b[39m\u001b[38;5;241m.\u001b[39mmaster\u001b[38;5;241m.\u001b[39mrecv_match()\n\u001b[1;32m    119\u001b[0m \u001b[38;5;28mprint\u001b[39m(\u001b[38;5;124mf\u001b[39m\u001b[38;5;124m\"\u001b[39m\u001b[38;5;124mConnecting message: \u001b[39m\u001b[38;5;132;01m{\u001b[39;00mmsg\u001b[38;5;132;01m}\u001b[39;00m\u001b[38;5;124m\"\u001b[39m)\n\u001b[0;32m--> 120\u001b[0m \u001b[43mtime\u001b[49m\u001b[38;5;241;43m.\u001b[39;49m\u001b[43msleep\u001b[49m\u001b[43m(\u001b[49m\u001b[38;5;241;43m0.5\u001b[39;49m\u001b[43m)\u001b[49m\n",
      "\u001b[0;31mKeyboardInterrupt\u001b[0m: "
     ]
    }
   ],
   "source": [
    "ac = AutipilotCompanion()\n",
    "ac.configure(\n",
    "    device=\"udp:192.168.1.34:1455\",\n",
    "    angularcs_lib_path=\"/home/udaiadmin/Projects/hailo-target-tracker/resources/angularcs.so\"\n",
    ")"
   ]
  },
  {
   "cell_type": "code",
   "execution_count": 4,
   "metadata": {},
   "outputs": [
    {
     "data": {
      "image/png": "[encoded data removed]",
      "text/plain": [
       "<Figure size 640x480 with 1 Axes>"
      ]
     },
     "metadata": {},
     "output_type": "display_data"
    }
   ],
   "source": [
    "f = 1.\n",
    "w = 2. * np.pi * f\n",
    "time_interval = 1\n",
    "samples = 20\n",
    "t = np.linspace(0, time_interval, samples)\n",
    "y = np.sin(w * t) * 640\n",
    "plt.plot(t, y)\n",
    "plt.show()"
   ]
  },
  {
   "cell_type": "code",
   "execution_count": 5,
   "metadata": {},
   "outputs": [
    {
     "name": "stdout",
     "output_type": "stream",
     "text": [
      "[   0.  208.  393.  536.  620.  638.  586.  471.  305.  105. -105. -305.\n",
      " -471. -586. -638. -620. -536. -393. -208.   -0.]\n"
     ]
    }
   ],
   "source": [
    "print(np.round(y, 0))"
   ]
  },
  {
   "cell_type": "code",
   "execution_count": 12,
   "metadata": {},
   "outputs": [
    {
     "name": "stdout",
     "output_type": "stream",
     "text": [
      "yaw:-0.47903233766555786, pitch:-0.47903233766555786, roll:-3.141592502593994\n",
      "yaw:-0.47903233766555786, pitch:-0.47903233766555786, roll:-3.141592502593994\n",
      "yaw:-0.47903233766555786, pitch:-0.47903233766555786, roll:-3.141592502593994\n",
      "yaw:-0.47903233766555786, pitch:-0.47903233766555786, roll:-3.141592502593994\n",
      "yaw:-0.47903233766555786, pitch:-0.47903233766555786, roll:-3.141592502593994\n",
      "yaw:-0.47903233766555786, pitch:-0.47903233766555786, roll:-3.141592502593994\n",
      "yaw:-0.47903233766555786, pitch:-0.47903233766555786, roll:-3.141592502593994\n",
      "yaw:-0.47903233766555786, pitch:-0.47903233766555786, roll:-3.141592502593994\n",
      "yaw:-0.47903233766555786, pitch:-0.47903233766555786, roll:-3.141592502593994\n",
      "yaw:-0.47903233766555786, pitch:-0.47903233766555786, roll:-3.141592502593994\n",
      "yaw:-0.47903233766555786, pitch:-0.47903233766555786, roll:-3.141592502593994\n",
      "yaw:-0.47903233766555786, pitch:-0.47903233766555786, roll:-3.141592502593994\n",
      "yaw:-0.47903233766555786, pitch:-0.47903233766555786, roll:-3.141592502593994\n",
      "yaw:-0.47903233766555786, pitch:-0.47903233766555786, roll:-3.141592502593994\n",
      "yaw:-0.47903233766555786, pitch:-0.47903233766555786, roll:-3.141592502593994\n",
      "yaw:-0.47903233766555786, pitch:-0.47903233766555786, roll:-3.141592502593994\n",
      "yaw:-0.47903233766555786, pitch:-0.47903233766555786, roll:-3.141592502593994\n",
      "yaw:-0.47903233766555786, pitch:-0.47903233766555786, roll:-3.141592502593994\n",
      "yaw:-0.47903233766555786, pitch:-0.47903233766555786, roll:-3.141592502593994\n",
      "yaw:-0.47903233766555786, pitch:-0.47903233766555786, roll:-3.141592502593994\n"
     ]
    }
   ],
   "source": [
    "for x_bias in np.nditer(np.round(y, 0)):\n",
    "    v = ac.cac.control_angular_motion_ex(0, 0, 0, 0.1, 640, 640, 60, 60)\n",
    "    print(\n",
    "        f\"yaw:{v.control_output_x}, pitch:{v.control_output_y}, roll:{v.control_output_z}\")"
   ]
  },
  {
   "cell_type": "code",
   "execution_count": 13,
   "metadata": {},
   "outputs": [
    {
     "name": "stdout",
     "output_type": "stream",
     "text": [
      "yaw:-0.47903233766555786, pitch:-0.47903233766555786, roll:-3.141592502593994\n",
      "yaw:-0.47903233766555786, pitch:-0.47903233766555786, roll:-3.141592502593994\n",
      "yaw:-0.47903233766555786, pitch:-0.47903233766555786, roll:-3.141592502593994\n"
     ]
    }
   ],
   "source": [
    "v = ac.cac.control_angular_motion_ex(0, 0, 0, 0.1, 640, 640, 60, 60)\n",
    "print(\n",
    "        f\"yaw:{v.control_output_x}, pitch:{v.control_output_y}, roll:{v.control_output_z}\")\n",
    "v = ac.cac.control_angular_motion_ex(0, 0, 0, 0.1, 640, 640, 60, 60)\n",
    "print(\n",
    "    f\"yaw:{v.control_output_x}, pitch:{v.control_output_y}, roll:{v.control_output_z}\")\n",
    "v = ac.cac.control_angular_motion_ex(0, 0, 0, 0.1, 640, 640, 60, 60)\n",
    "print(\n",
    "    f\"yaw:{v.control_output_x}, pitch:{v.control_output_y}, roll:{v.control_output_z}\")"
   ]
  }
 ],
 "metadata": {
  "kernelspec": {
   "display_name": "hailo_tappas_venv",
   "language": "python",
   "name": "python3"
  },
  "language_info": {
   "codemirror_mode": {
    "name": "ipython",
    "version": 3
   },
   "file_extension": ".py",
   "mimetype": "text/x-python",
   "name": "python",
   "nbconvert_exporter": "python",
   "pygments_lexer": "ipython3",
   "version": "3.11.2"
  }
 },
 "nbformat": 4,
 "nbformat_minor": 2
}
